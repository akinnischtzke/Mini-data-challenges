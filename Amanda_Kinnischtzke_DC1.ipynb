{
 "cells": [
  {
   "cell_type": "code",
   "execution_count": 1,
   "metadata": {},
   "outputs": [],
   "source": [
    "import matplotlib.pyplot as plt\n",
    "import numpy as np\n",
    "import pandas as pd\n",
    "import seaborn as sns\n",
    "\n",
    "from sklearn.naive_bayes import GaussianNB\n",
    "from sklearn.linear_model import LogisticRegression\n",
    "from sklearn.ensemble import RandomForestClassifier\n",
    "from sklearn.model_selection import train_test_split\n",
    "from sklearn.metrics import confusion_matrix, accuracy_score"
   ]
  },
  {
   "cell_type": "code",
   "execution_count": 2,
   "metadata": {},
   "outputs": [
    {
     "name": "stdout",
     "output_type": "stream",
     "text": [
      "Shape of cancer dataset:  (699, 10)\n",
      "Shape of cancer dataset, if dropped any rows with NaNs:  (699, 10)\n"
     ]
    },
    {
     "data": {
      "text/html": [
       "<div>\n",
       "<style scoped>\n",
       "    .dataframe tbody tr th:only-of-type {\n",
       "        vertical-align: middle;\n",
       "    }\n",
       "\n",
       "    .dataframe tbody tr th {\n",
       "        vertical-align: top;\n",
       "    }\n",
       "\n",
       "    .dataframe thead th {\n",
       "        text-align: right;\n",
       "    }\n",
       "</style>\n",
       "<table border=\"1\" class=\"dataframe\">\n",
       "  <thead>\n",
       "    <tr style=\"text-align: right;\">\n",
       "      <th></th>\n",
       "      <th>Clump Thickness</th>\n",
       "      <th>Uniformity of Cell Size</th>\n",
       "      <th>Uniformity of Cell Shape</th>\n",
       "      <th>Marginal Adhesion</th>\n",
       "      <th>Single Epithelial Cell Size</th>\n",
       "      <th>Bare Nuclei</th>\n",
       "      <th>Bland Chromatin</th>\n",
       "      <th>Normal Nucleoli</th>\n",
       "      <th>Mitoses</th>\n",
       "      <th>Class</th>\n",
       "    </tr>\n",
       "    <tr>\n",
       "      <th>Sample id</th>\n",
       "      <th></th>\n",
       "      <th></th>\n",
       "      <th></th>\n",
       "      <th></th>\n",
       "      <th></th>\n",
       "      <th></th>\n",
       "      <th></th>\n",
       "      <th></th>\n",
       "      <th></th>\n",
       "      <th></th>\n",
       "    </tr>\n",
       "  </thead>\n",
       "  <tbody>\n",
       "    <tr>\n",
       "      <th>1000025</th>\n",
       "      <td>5</td>\n",
       "      <td>1</td>\n",
       "      <td>1</td>\n",
       "      <td>1</td>\n",
       "      <td>2</td>\n",
       "      <td>1</td>\n",
       "      <td>3</td>\n",
       "      <td>1</td>\n",
       "      <td>1</td>\n",
       "      <td>2</td>\n",
       "    </tr>\n",
       "    <tr>\n",
       "      <th>1002945</th>\n",
       "      <td>5</td>\n",
       "      <td>4</td>\n",
       "      <td>4</td>\n",
       "      <td>5</td>\n",
       "      <td>7</td>\n",
       "      <td>10</td>\n",
       "      <td>3</td>\n",
       "      <td>2</td>\n",
       "      <td>1</td>\n",
       "      <td>2</td>\n",
       "    </tr>\n",
       "    <tr>\n",
       "      <th>1015425</th>\n",
       "      <td>3</td>\n",
       "      <td>1</td>\n",
       "      <td>1</td>\n",
       "      <td>1</td>\n",
       "      <td>2</td>\n",
       "      <td>2</td>\n",
       "      <td>3</td>\n",
       "      <td>1</td>\n",
       "      <td>1</td>\n",
       "      <td>2</td>\n",
       "    </tr>\n",
       "    <tr>\n",
       "      <th>1016277</th>\n",
       "      <td>6</td>\n",
       "      <td>8</td>\n",
       "      <td>8</td>\n",
       "      <td>1</td>\n",
       "      <td>3</td>\n",
       "      <td>4</td>\n",
       "      <td>3</td>\n",
       "      <td>7</td>\n",
       "      <td>1</td>\n",
       "      <td>2</td>\n",
       "    </tr>\n",
       "    <tr>\n",
       "      <th>1017023</th>\n",
       "      <td>4</td>\n",
       "      <td>1</td>\n",
       "      <td>1</td>\n",
       "      <td>3</td>\n",
       "      <td>2</td>\n",
       "      <td>1</td>\n",
       "      <td>3</td>\n",
       "      <td>1</td>\n",
       "      <td>1</td>\n",
       "      <td>2</td>\n",
       "    </tr>\n",
       "  </tbody>\n",
       "</table>\n",
       "</div>"
      ],
      "text/plain": [
       "           Clump Thickness  Uniformity of Cell Size  Uniformity of Cell Shape  \\\n",
       "Sample id                                                                       \n",
       "1000025                  5                        1                         1   \n",
       "1002945                  5                        4                         4   \n",
       "1015425                  3                        1                         1   \n",
       "1016277                  6                        8                         8   \n",
       "1017023                  4                        1                         1   \n",
       "\n",
       "           Marginal Adhesion  Single Epithelial Cell Size Bare Nuclei  \\\n",
       "Sample id                                                               \n",
       "1000025                    1                            2           1   \n",
       "1002945                    5                            7          10   \n",
       "1015425                    1                            2           2   \n",
       "1016277                    1                            3           4   \n",
       "1017023                    3                            2           1   \n",
       "\n",
       "           Bland Chromatin  Normal Nucleoli  Mitoses  Class  \n",
       "Sample id                                                    \n",
       "1000025                  3                1        1      2  \n",
       "1002945                  3                2        1      2  \n",
       "1015425                  3                1        1      2  \n",
       "1016277                  3                7        1      2  \n",
       "1017023                  3                1        1      2  "
      ]
     },
     "execution_count": 2,
     "metadata": {},
     "output_type": "execute_result"
    }
   ],
   "source": [
    "# Load data, add column names for data exploration purposes\n",
    "df_cancer = pd.read_csv(\"/Users/amandakinnischtzke/Dropbox/amanda/insightdatascience/18B/Data-Challenge-1/breast-cancer-wisconsin.csv\", header=-1)\n",
    "column_names = ['Sample id','Clump Thickness','Uniformity of Cell Size','Uniformity of Cell Shape','Marginal Adhesion','Single Epithelial Cell Size',\n",
    "                     'Bare Nuclei','Bland Chromatin','Normal Nucleoli','Mitoses','Class']\n",
    "df_cancer.columns = column_names\n",
    "df_cancer.set_index(keys=['Sample id'],drop=True,inplace=True)\n",
    "print(\"Shape of cancer dataset: \", str(df_cancer.shape))\n",
    "print(\"Shape of cancer dataset, if dropped any rows with NaNs: \", str(df_cancer.dropna(axis=0).shape))\n",
    "\n",
    "df_cancer.head()"
   ]
  },
  {
   "cell_type": "code",
   "execution_count": 3,
   "metadata": {},
   "outputs": [
    {
     "data": {
      "text/plain": [
       "Clump Thickness                 int64\n",
       "Uniformity of Cell Size         int64\n",
       "Uniformity of Cell Shape        int64\n",
       "Marginal Adhesion               int64\n",
       "Single Epithelial Cell Size     int64\n",
       "Bare Nuclei                    object\n",
       "Bland Chromatin                 int64\n",
       "Normal Nucleoli                 int64\n",
       "Mitoses                         int64\n",
       "Class                           int64\n",
       "dtype: object"
      ]
     },
     "execution_count": 3,
     "metadata": {},
     "output_type": "execute_result"
    }
   ],
   "source": [
    "df_cancer.dtypes"
   ]
  },
  {
   "cell_type": "code",
   "execution_count": 4,
   "metadata": {},
   "outputs": [
    {
     "name": "stdout",
     "output_type": "stream",
     "text": [
      "Number of non-numeric values:  16\n",
      "Sample id\n",
      "1057013    ?\n",
      "1096800    ?\n",
      "1183246    ?\n",
      "1184840    ?\n",
      "1193683    ?\n",
      "1197510    ?\n",
      "1241232    ?\n",
      "169356     ?\n",
      "432809     ?\n",
      "563649     ?\n",
      "606140     ?\n",
      "61634      ?\n",
      "704168     ?\n",
      "733639     ?\n",
      "1238464    ?\n",
      "1057067    ?\n",
      "Name: Bare Nuclei, dtype: object\n"
     ]
    }
   ],
   "source": [
    "# Column 'bare nuclei' is an object for some reason, check if some values are not numeric (already checked for nans).\n",
    "print(\"Number of non-numeric values: \",str(df_cancer.shape[0] - df_cancer['Bare Nuclei'].str.isnumeric().sum()))\n",
    "print(df_cancer.loc[df_cancer['Bare Nuclei'].str.isnumeric() == False]['Bare Nuclei'])"
   ]
  },
  {
   "cell_type": "code",
   "execution_count": 5,
   "metadata": {},
   "outputs": [
    {
     "name": "stdout",
     "output_type": "stream",
     "text": [
      "New shape of cancer dataset:  (682, 10)\n"
     ]
    },
    {
     "data": {
      "text/plain": [
       "Clump Thickness                int64\n",
       "Uniformity of Cell Size        int64\n",
       "Uniformity of Cell Shape       int64\n",
       "Marginal Adhesion              int64\n",
       "Single Epithelial Cell Size    int64\n",
       "Bare Nuclei                    int64\n",
       "Bland Chromatin                int64\n",
       "Normal Nucleoli                int64\n",
       "Mitoses                        int64\n",
       "Class                          int64\n",
       "dtype: object"
      ]
     },
     "execution_count": 5,
     "metadata": {},
     "output_type": "execute_result"
    }
   ],
   "source": [
    "# For now we'll drop these rows as there aren't very many. May reconsider this later.\n",
    "df_cancer.drop(labels=df_cancer[df_cancer['Bare Nuclei'] == '?'].index, axis=0, inplace=True)\n",
    "print(\"New shape of cancer dataset: \", str(df_cancer.shape))\n",
    "\n",
    "# Now convert this column to integers\n",
    "df_cancer['Bare Nuclei'] = df_cancer['Bare Nuclei'].astype(int) #column was object type, converted to int liek rest of columns\n",
    "df_cancer.dtypes"
   ]
  },
  {
   "cell_type": "code",
   "execution_count": 6,
   "metadata": {},
   "outputs": [
    {
     "name": "stdout",
     "output_type": "stream",
     "text": [
      "Class\n",
      "2    443\n",
      "4    239\n",
      "Name: Clump Thickness, dtype: int64\n"
     ]
    }
   ],
   "source": [
    "# Look at how many classes there are that we'll be predicting\n",
    "print(df_cancer.groupby('Class')['Clump Thickness'].count())"
   ]
  },
  {
   "cell_type": "code",
   "execution_count": 7,
   "metadata": {},
   "outputs": [
    {
     "data": {
      "image/png": "[encoded data removed]",
      "text/plain": [
       "<Figure size 1080x720 with 10 Axes>"
      ]
     },
     "metadata": {},
     "output_type": "display_data"
    }
   ],
   "source": [
    "# Let's look at the distibution of each feature, and separated by class.\n",
    "fig, ax = plt.subplots(2,5,figsize=(15,10))\n",
    "\n",
    "for col in range(df_cancer.shape[1]-1):\n",
    "\n",
    "    d_class2 = df_cancer.loc[df_cancer['Class'] == 2][df_cancer.columns[col]]\n",
    "    d_class4 = df_cancer.loc[df_cancer['Class'] == 4][df_cancer.columns[col]]\n",
    "    \n",
    "    ax_row = int(np.floor(col/5))\n",
    "    ax_col = col % 5\n",
    "    sns.distplot(d_class2, kde=False, rug=False, ax=ax[ax_row, ax_col])\n",
    "    sns.distplot(d_class4, kde=False, rug=False, ax=ax[ax_row, ax_col])\n"
   ]
  },
  {
   "cell_type": "markdown",
   "metadata": {},
   "source": [
    "Looks like many of the features are very segregated for the difference classes. Seems like a model should be able to predict classes pretty well.\n",
    "\n",
    "Given that this is a classifier problem, we'll start by creating a few different classifier models and see how they perform. The specific performance and errors for each model may give additional insights into the data."
   ]
  },
  {
   "cell_type": "code",
   "execution_count": 17,
   "metadata": {},
   "outputs": [
    {
     "name": "stdout",
     "output_type": "stream",
     "text": [
      "Labels shape:  (682,)\n",
      "Features shape:  (682, 9)\n",
      "Training set size:  (545, 9)\n",
      "Test set size:  (137, 9)\n"
     ]
    }
   ],
   "source": [
    "# Let's try a few different classifier models, and see how each performs\n",
    "\n",
    "# First, split dataset into features and labels\n",
    "y = np.array(df_cancer['Class'])\n",
    "X = np.array(df_cancer.drop(labels='Class', axis=1))\n",
    "X_list = df_cancer.columns.drop(labels='Class')\n",
    "\n",
    "print(\"Labels shape: \", str(y.shape))\n",
    "print(\"Features shape: \", str(X.shape))\n",
    "\n",
    "X_train, X_test, y_train, y_test = train_test_split(X, y, test_size=0.2)\n",
    "print(\"Training set size: \", str(X_train.shape))\n",
    "print(\"Test set size: \", str(X_test.shape))"
   ]
  },
  {
   "cell_type": "code",
   "execution_count": 18,
   "metadata": {
    "scrolled": true
   },
   "outputs": [
    {
     "name": "stdout",
     "output_type": "stream",
     "text": [
      "Logistic\n",
      "True negatives:  88 True positives:  40\n",
      "False negatives:  5 False positives:  4\n",
      "Accuracy:  93.43 %\n",
      " \n",
      "Naive Bayes\n",
      "True negatives:  85 True positives:  43\n",
      "False negatives:  2 False positives:  7\n",
      "Accuracy:  93.43 %\n",
      " \n",
      "Random Forest\n",
      "True negatives:  89 True positives:  43\n",
      "False negatives:  2 False positives:  3\n",
      "Accuracy:  96.35 %\n",
      " \n"
     ]
    }
   ],
   "source": [
    "# Create classifiers and test each on the data \n",
    "lr = LogisticRegression()\n",
    "gnb = GaussianNB()\n",
    "rfc = RandomForestClassifier(n_estimators=100)\n",
    "\n",
    "for clf, name in [(lr, 'Logistic'),\n",
    "                  (gnb, 'Naive Bayes'), \n",
    "                  (rfc, 'Random Forest')]:\n",
    "    print(name)\n",
    "    clf.fit(X_train, y_train)\n",
    "    pred = clf.predict(X_test)\n",
    "\n",
    "    cm = confusion_matrix(y_test, pred)\n",
    "    tn, fp, fn, tp = confusion_matrix(y_test, pred).ravel()\n",
    "    \n",
    "    # Reminder: class 2 -> benign, class 4 -> malignant\n",
    "    pred_prob = clf.predict_proba(X_test)\n",
    "    results = pd.DataFrame({'actual': y_test,\n",
    "                        'predicted': pred,\n",
    "                        'pred prob_class2': pred_prob[:, 0],\n",
    "                        'pred prob_class4': pred_prob[:, 1]})\n",
    "    \n",
    "    print(\"True negatives: \", str(tn), \"True positives: \", str(tp))\n",
    "    print(\"False negatives: \", str(fn), \"False positives: \", str(fp))\n",
    "    score = accuracy_score(y_test, pred)\n",
    "    print(\"Accuracy: \", \"{0:0.2f}\".format(100*score), \"%\")\n",
    "    print(\" \")\n",
    "    \n"
   ]
  },
  {
   "cell_type": "markdown",
   "metadata": {},
   "source": [
    "On first pass, each model performs pretty well, each ~95% accuracy. But for this dataset, where we're predicting a cancer diagnosis, **false negatives are much worse than false positives** (i.e. result in an instance of cancer going undiagnosed). In this sense, the Naive Bayes would probably be the best choice, as it has the lowest number of false negatives.\n",
    "\n",
    "However, we should explore further to determine if we can adjust the model predictions to minimize false negatives even further (even if it means increasing false positives).\n",
    "\n",
    "First thing to try is changing the classification threshold, which by default is equal to 0.5. Decreasing it will cause fewer cases to be classified in class 4 (benign), therefore potentially increasing the false positives but hopefully decreasing the false negatives.\n"
   ]
  },
  {
   "cell_type": "code",
   "execution_count": 20,
   "metadata": {},
   "outputs": [
    {
     "name": "stdout",
     "output_type": "stream",
     "text": [
      "Logistic\n",
      "True negatives:  87 True positives:  41\n",
      "False negatives:  4 False positives:  5\n",
      "Accuracy:  93.43 %\n",
      " \n",
      "Naive Bayes\n",
      "True negatives:  85 True positives:  43\n",
      "False negatives:  2 False positives:  7\n",
      "Accuracy:  93.43 %\n",
      " \n",
      "Random Forest\n",
      "True negatives:  88 True positives:  45\n",
      "False negatives:  0 False positives:  4\n",
      "Accuracy:  95.62 %\n",
      " \n"
     ]
    }
   ],
   "source": [
    "# Let's try changing the classification threshold on each classifier model\n",
    "\n",
    "# Create classifiers\n",
    "lr = LogisticRegression()\n",
    "gnb = GaussianNB()\n",
    "rfc = RandomForestClassifier(n_estimators=100)\n",
    "\n",
    "for clf, name in [(lr, 'Logistic'),\n",
    "                  (gnb, 'Naive Bayes'), \n",
    "                  (rfc, 'Random Forest')]:\n",
    "    print(name)\n",
    "    clf.fit(X_train, y_train)\n",
    "    pred = clf.predict(X_test)\n",
    " \n",
    "    # Reminder: class 2 -> benign, class 4 -> malignant\n",
    "    pred_prob = clf.predict_proba(X_test)\n",
    "    results = pd.DataFrame({'actual': y_test,\n",
    "                        'predicted': pred,\n",
    "                        'pred prob_class2': pred_prob[:, 0],\n",
    "                        'pred prob_class4': pred_prob[:, 1]})\n",
    "    \n",
    "    # Am manually changing the classification threshold from 0.5 to 0.3 for categorizing in class 4.\n",
    "    ind = results.index[results['pred prob_class4'] >= 0.3] # indices of all cases with prediction prob of >=0.3 \n",
    "    results['predicted 2'] = 2\n",
    "    results.loc[ind,('predicted 2')] = 4 \n",
    "\n",
    "    # Now calculating the confusion matrix again\n",
    "    tn, fp, fn, tp = confusion_matrix(y_test, np.array(results['predicted 2'])).ravel()\n",
    "    print(\"True negatives: \", str(tn), \"True positives: \", str(tp))\n",
    "    print(\"False negatives: \", str(fn), \"False positives: \", str(fp))\n",
    "    score = accuracy_score(y_test, pred)\n",
    "    print(\"Accuracy: \", \"{0:0.2f}\".format(100*score), \"%\")\n",
    "    print(\" \")\n",
    "  \n"
   ]
  },
  {
   "cell_type": "markdown",
   "metadata": {},
   "source": [
    "We have successfully reduced the number of false negatives. Therefore this seems to be a successful strategy for this problem. We could keep exploring ]to find the optimal threshold, such as with a ROC curve. In this case 0.3 was successful but isn't necessarily always the best choice.\n",
    "\n",
    "Additional techniques could be tried (with more time). For example, there was a class imbalance between benign/malignant, with about half as many malignant samples as benign. We could try some resampling techniques to fix this and perhaps that would improve the classification. Also, further data exploration on the mis-classified samples may yield insight about whether specific features were causing incorrection classification, which could yield further directions to try in building a robust model."
   ]
  },
  {
   "cell_type": "code",
   "execution_count": null,
   "metadata": {},
   "outputs": [],
   "source": []
  }
 ],
 "metadata": {
  "kernelspec": {
   "display_name": "Python 3",
   "language": "python",
   "name": "python3"
  },
  "language_info": {
   "codemirror_mode": {
    "name": "ipython",
    "version": 3
   },
   "file_extension": ".py",
   "mimetype": "text/x-python",
   "name": "python",
   "nbconvert_exporter": "python",
   "pygments_lexer": "ipython3",
   "version": "3.6.5"
  }
 },
 "nbformat": 4,
 "nbformat_minor": 2
}
